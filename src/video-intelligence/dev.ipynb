{
 "cells": [
  {
   "cell_type": "code",
   "execution_count": null,
   "metadata": {},
   "outputs": [],
   "source": [
    "import gemini as gemini\n",
    "import config as config\n",
    "import bq as bq\n",
    "import gcs as gcs\n",
    "import utils as utils\n",
    "\n",
    "import video_intelligence as gvi\n",
    "from google.cloud import videointelligence_v1 as vi\n",
    "\n",
    "\n",
    "config.WORKING_BUCKET = bucket = \"video-working-bucket-e2c3\"\n",
    "config.OUTPUT_BUCKET = \"video-working-bucket-e2c3\"\n",
    "config.INPUT_BUCKET = \"video-input-bucket-e2c3\"\n",
    "config.PROJECT_ID = \"media-414316\"\n",
    "config.BQ_DATASET = \"video_analytics_5e3d\"\n",
    "\n",
    "\n",
    "\n",
    "import json\n",
    "import pandas as pd\n"
   ]
  },
  {
   "cell_type": "markdown",
   "metadata": {},
   "source": [
    "# Video intelligence API"
   ]
  },
  {
   "cell_type": "code",
   "execution_count": null,
   "metadata": {},
   "outputs": [],
   "source": [
    "from google.cloud import videointelligence_v1 as vi\n"
   ]
  },
  {
   "cell_type": "code",
   "execution_count": null,
   "metadata": {},
   "outputs": [],
   "source": [
    "# Shot change\n",
    "file = \"fr-FR/SHOT_CHANGE_DETECTION/cdanslair - 1708961447.5183704.json\"\n",
    "\n",
    "data = gcs.read_json_from_gcs(bucket, file)\n",
    "\n",
    "print(data)\n",
    "annotation = vi.AnnotateVideoResponse(data)\n",
    "\n",
    "gvi.splitVideo(data)"
   ]
  },
  {
   "cell_type": "code",
   "execution_count": null,
   "metadata": {},
   "outputs": [],
   "source": []
  },
  {
   "cell_type": "code",
   "execution_count": null,
   "metadata": {},
   "outputs": [],
   "source": [
    "# Explicit content\n",
    "file = \"fr-FR/EXPLICIT_CONTENT_DETECTION/test1 - BEST UPCOMING MOVIES 2024 (Trailers) - 1709023409.1792483.json\"\n",
    "data = gcs.read_json_from_gcs(bucket, file)\n",
    "\n",
    "print(data)\n",
    "annotation = vi.AnnotateVideoResponse(data)\n",
    "\n",
    "#gvi.splitVideo(data)\n",
    "gvi.storeVideoIntelligenceData(data)"
   ]
  },
  {
   "cell_type": "code",
   "execution_count": null,
   "metadata": {},
   "outputs": [],
   "source": []
  },
  {
   "cell_type": "code",
   "execution_count": null,
   "metadata": {},
   "outputs": [],
   "source": [
    "\n",
    "# TEXT DETECTION\n",
    "\n",
    "file = \"fr-FR/TEXT_DETECTION/test1 - BEST UPCOMING MOVIES 2024 (Trailers) - 1709023409.2954755.json\"\n",
    "\n",
    "data = gcs.read_json_from_gcs(bucket, file)\n",
    "annotation = vi.AnnotateVideoResponse(data)\n",
    "\n",
    "#gvi.splitVideo(data)\n",
    "gvi.storeVideoIntelligenceData(data)"
   ]
  },
  {
   "cell_type": "code",
   "execution_count": null,
   "metadata": {},
   "outputs": [],
   "source": []
  },
  {
   "cell_type": "markdown",
   "metadata": {},
   "source": [
    "# Gemini"
   ]
  },
  {
   "cell_type": "code",
   "execution_count": null,
   "metadata": {},
   "outputs": [],
   "source": [
    "uri = \"gs://video-output-bucket-e2c3/CSA/fr-FR/cdanslair.mp4/chunks - 3 - 7.36 - 9.96.mp4\"\n",
    "name = \"CSA/fr-FR/cdanslair.mp4/chunks - 3 - 7.36 - 9.96.mp4\"\n",
    "\n",
    "res = gemini.content_moderation_gemini(uri)\n",
    "print(f\"moderation content done on chunck uri {uri} with res = {res}\")\n",
    "\n",
    "print(\"save json result in output bucket\")\n",
    "json_file_path = gcs.write_text_to_gcs(config.OUTPUT_BUCKET, utils.replace_extension(name, \".json\"), res, \"text/json\")\n",
    "print(f\"json_file_path = {json_file_path}\")\n",
    "\n",
    "dict= json.loads(res)\n",
    "dict= dict[\"csa_rules\"]\n",
    "\n",
    "print(\"read tags from source uri\")\n",
    "bucketname, video_blobname = gcs.split_gcs_uri(uri)\n",
    "tags = gcs.read_tags_from_gcs(bucketname, video_blobname)\n",
    "\n",
    "if tags is None:\n",
    "    print(\"no tags found\")\n",
    "else:\n",
    "    print(f\"uri= {uri} - tags = {tags}\")\n",
    "    dict.update(tags)            \n",
    "\n",
    "dict[\"uri\"] = uri\n",
    "df = pd.DataFrame([dict])\n",
    "\n",
    "df"
   ]
  },
  {
   "cell_type": "code",
   "execution_count": null,
   "metadata": {},
   "outputs": [],
   "source": []
  },
  {
   "cell_type": "code",
   "execution_count": null,
   "metadata": {},
   "outputs": [],
   "source": []
  },
  {
   "cell_type": "code",
   "execution_count": null,
   "metadata": {},
   "outputs": [],
   "source": []
  },
  {
   "cell_type": "code",
   "execution_count": null,
   "metadata": {},
   "outputs": [],
   "source": []
  },
  {
   "cell_type": "code",
   "execution_count": null,
   "metadata": {},
   "outputs": [],
   "source": []
  },
  {
   "cell_type": "code",
   "execution_count": null,
   "metadata": {},
   "outputs": [],
   "source": []
  },
  {
   "cell_type": "code",
   "execution_count": null,
   "metadata": {},
   "outputs": [],
   "source": []
  },
  {
   "cell_type": "code",
   "execution_count": null,
   "metadata": {},
   "outputs": [],
   "source": []
  },
  {
   "cell_type": "code",
   "execution_count": null,
   "metadata": {},
   "outputs": [],
   "source": []
  },
  {
   "cell_type": "code",
   "execution_count": null,
   "metadata": {},
   "outputs": [],
   "source": []
  },
  {
   "cell_type": "code",
   "execution_count": null,
   "metadata": {},
   "outputs": [],
   "source": []
  },
  {
   "cell_type": "code",
   "execution_count": null,
   "metadata": {},
   "outputs": [],
   "source": []
  },
  {
   "cell_type": "code",
   "execution_count": null,
   "metadata": {},
   "outputs": [],
   "source": []
  },
  {
   "cell_type": "code",
   "execution_count": null,
   "metadata": {},
   "outputs": [],
   "source": []
  },
  {
   "cell_type": "code",
   "execution_count": null,
   "metadata": {},
   "outputs": [],
   "source": []
  },
  {
   "cell_type": "code",
   "execution_count": null,
   "metadata": {},
   "outputs": [],
   "source": []
  },
  {
   "cell_type": "code",
   "execution_count": null,
   "metadata": {},
   "outputs": [],
   "source": []
  }
 ],
 "metadata": {
  "kernelspec": {
   "display_name": ".venv",
   "language": "python",
   "name": "python3"
  },
  "language_info": {
   "codemirror_mode": {
    "name": "ipython",
    "version": 3
   },
   "file_extension": ".py",
   "mimetype": "text/x-python",
   "name": "python",
   "nbconvert_exporter": "python",
   "pygments_lexer": "ipython3",
   "version": "3.10.13"
  }
 },
 "nbformat": 4,
 "nbformat_minor": 2
}
